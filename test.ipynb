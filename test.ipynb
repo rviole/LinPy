{
 "cells": [
  {
   "cell_type": "code",
   "execution_count": 1,
   "metadata": {},
   "outputs": [],
   "source": [
    "import numpy as np\n",
    "from production.Tools import Vector, Matrix"
   ]
  },
  {
   "cell_type": "code",
   "execution_count": 2,
   "metadata": {},
   "outputs": [],
   "source": [
    "\n",
    "def is_dependent(*args):\n",
    "    if not args:\n",
    "        raise ValueError(\"No input provided.\")\n",
    "\n",
    "    if len(args) == 1:\n",
    "        # a  matrix\n",
    "        matrix = args[0]\n",
    "        matrix = Matrix(matrix).data if not isinstance(matrix, Matrix) else matrix\n",
    "\n",
    "    else:\n",
    "        vectors = [Vector(v).data if not isinstance(v, Vector) else v for v in args]\n",
    "        matrix = Matrix(np.array(vectors)).data\n",
    "\n",
    "    rank = np.linalg.matrix_rank(matrix)\n",
    "    vector_num = matrix.data.shape[1]  # col num = vector num\n",
    "    print(\"Matrix:\", matrix)\n",
    "    print(\"Rank:\", rank)\n",
    "    print(\"Shape:\", matrix.shape)\n",
    "    print(\"Dims:\", matrix.ndim)\n",
    "    print(\"Cols:\", vector_num)\n",
    "    return rank < vector_num"
   ]
  },
  {
   "cell_type": "code",
   "execution_count": null,
   "metadata": {},
   "outputs": [],
   "source": [
    "\n",
    "\n",
    "\n",
    "a = np.array([1, 2])\n",
    "b = np.array([4, 8])\n",
    "c = np.array([a, b]).T\n",
    "\n",
    "\n",
    "\n",
    "is_dependent(c)  # test for matrix NDARRAY\n",
    "is_dependent([[1, 4], [2, 8]])  # test for matrix NO NDARRAY\n",
    "\n",
    "\n",
    "is_dependent([1], [2], [3])  # test for vector NDARRAYS\n",
    "is_dependent([[1, 4], [2, 8]])  # test for matrix NO NDARRAY"
   ]
  },
  {
   "cell_type": "code",
   "execution_count": 7,
   "metadata": {},
   "outputs": [
    {
     "ename": "NameError",
     "evalue": "name 'is_dependent' is not defined",
     "output_type": "error",
     "traceback": [
      "\u001b[1;31m---------------------------------------------------------------------------\u001b[0m",
      "\u001b[1;31mNameError\u001b[0m                                 Traceback (most recent call last)",
      "Cell \u001b[1;32mIn[7], line 9\u001b[0m\n\u001b[0;32m      6\u001b[0m matrix_rank \u001b[38;5;241m=\u001b[39m np\u001b[38;5;241m.\u001b[39mlinalg\u001b[38;5;241m.\u001b[39mmatrix_rank(matrix\u001b[38;5;241m.\u001b[39mdata)\n\u001b[0;32m      8\u001b[0m m_rank, matrix\u001b[38;5;241m.\u001b[39mrank()\n\u001b[1;32m----> 9\u001b[0m \u001b[43mis_dependent\u001b[49m(m)\n",
      "\u001b[1;31mNameError\u001b[0m: name 'is_dependent' is not defined"
     ]
    }
   ],
   "source": [
    "m = [[1, 0, 0], [0, 1, 0], [0, 0, 1]]\n",
    "m = np.array(m)\n",
    "m_rank = np.linalg.matrix_rank(m)\n",
    "\n",
    "matrix = Matrix(m)\n",
    "matrix_rank = np.linalg.matrix_rank(matrix.data)\n",
    "\n",
    "m_rank, matrix.rank()\n",
    "is_dependent(m)"
   ]
  },
  {
   "cell_type": "code",
   "execution_count": 3,
   "metadata": {},
   "outputs": [
    {
     "name": "stdout",
     "output_type": "stream",
     "text": [
      "Matrix: [[1 0 0]\n",
      " [0 1 0]\n",
      " [0 0 1]]\n",
      "Rank: 3\n",
      "Shape: (3, 3)\n",
      "Dims: 2\n",
      "Cols: 3\n"
     ]
    },
    {
     "data": {
      "text/plain": [
       "False"
      ]
     },
     "execution_count": 3,
     "metadata": {},
     "output_type": "execute_result"
    }
   ],
   "source": [
    "v1 = [1, 0, 0]\n",
    "v2 = [0, 1, 0]\n",
    "v3 = [0, 0, 1]\n",
    "\n",
    "is_dependent(v1, v2, v3)"
   ]
  },
  {
   "cell_type": "code",
   "execution_count": 4,
   "metadata": {},
   "outputs": [],
   "source": [
    "import numpy as np\n",
    "from production.Tools import Vector, Matrix\n",
    "from typing import Optional, Literal"
   ]
  },
  {
   "cell_type": "code",
   "execution_count": 2,
   "metadata": {},
   "outputs": [
    {
     "name": "stdout",
     "output_type": "stream",
     "text": [
      "True True\n"
     ]
    },
    {
     "data": {
      "text/plain": [
       "True"
      ]
     },
     "execution_count": 2,
     "metadata": {},
     "output_type": "execute_result"
    }
   ],
   "source": [
    "def is_linear_transformation(\n",
    "    transformation_matrix: Matrix,\n",
    "    v1: Optional[Vector] = None,\n",
    "    v2: Optional[Vector] = None,\n",
    "    c: Optional[float] = None,\n",
    "):\n",
    "    # generate 2 random 2D vectors\n",
    "    if not (v1 and v2):\n",
    "        v1, v2 = np.random.random(size=(2, 2))\n",
    "        v1, v2 = Vector(v1), Vector(v2)\n",
    "    else:\n",
    "        if not isinstance(v1, Vector):\n",
    "            v1 = Vector(v1)\n",
    "        elif not isinstance(v2, Vector):\n",
    "            v2 = Vector(v2)\n",
    "    # random scalar\n",
    "    c = np.random.rand()\n",
    "\n",
    "    A = (\n",
    "        Matrix(transformation_matrix)\n",
    "        if not isinstance(transformation_matrix, Matrix)\n",
    "        else transformation_matrix\n",
    "    )\n",
    "\n",
    "    additivity = np.allclose(A @ (v1 + v2), A @ v1 + A @ v2)\n",
    "    homogeneity = np.allclose(A @ (c * v1), c * (A @ v1))\n",
    "\n",
    "    print(additivity, homogeneity)\n",
    "    return additivity and homogeneity\n",
    "\n",
    "\n",
    "is_linear_transformation([[-1, 0], [0, 1]])"
   ]
  },
  {
   "cell_type": "code",
   "execution_count": null,
   "metadata": {},
   "outputs": [],
   "source": [
    "def apply_rotation(\n",
    "    self, angle: float | int, direction: Literal[\"right\", \"left\"] = \"right\"\n",
    "):\n",
    "    num_coordinates = self.shape[0]\n",
    "    num_vectors = self.shape[1]\n",
    "\n",
    "def rotate_30(direction: Literal[\"right\", \"left\"] = \"right\"):\n",
    "    pass\n",
    "\n",
    "def rotate_45(direction: Literal[\"right\", \"left\"] = \"right\"):\n",
    "    pass\n",
    "\n",
    "def rotate_2D_90(self, direction: Literal[\"right\", \"left\"] = \"right\"):\n",
    "    if direction == \"right\":\n",
    "        A = Matrix([[0, -1], [1, 0]])\n",
    "    elif direction == \"left\":\n",
    "        A = Matrix([[-1, 0], [0, 1]])\n",
    "\n",
    "    return A @ self\n",
    "    \n",
    "def rotate_180(direction: Literal[\"right\", \"left\"] = \"right\"):\n",
    "    pass\n",
    "\n",
    "def rotate_270(direction: Literal[\"right\", \"left\"] = \"right\"):\n",
    "    pass\n",
    "\n",
    "def rotate_360(direction: Literal[\"right\", \"left\"] = \"right\"):\n",
    "    pass"
   ]
  },
  {
   "cell_type": "code",
   "execution_count": 22,
   "metadata": {},
   "outputs": [
    {
     "data": {
      "text/plain": [
       "Matrix(Matrix([[-4, -5],\n",
       "        [ 1,  2]]))"
      ]
     },
     "execution_count": 22,
     "metadata": {},
     "output_type": "execute_result"
    }
   ],
   "source": [
    "Matrix([[1, 2], [4, 5]]).rotate_2D_90()"
   ]
  },
  {
   "cell_type": "markdown",
   "metadata": {},
   "source": [
    "---"
   ]
  },
  {
   "cell_type": "code",
   "execution_count": 33,
   "metadata": {},
   "outputs": [
    {
     "data": {
      "text/latex": [
       "$\\displaystyle \\begin{bmatrix} 1 \\\\ 2 \\\\ 3 \\end{bmatrix}$"
      ],
      "text/plain": [
       "<IPython.core.display.Math object>"
      ]
     },
     "metadata": {},
     "output_type": "display_data"
    }
   ],
   "source": [
    "import numpy as np\n",
    "from IPython.display import display, Math\n",
    "\n",
    "# Display vector in column form\n",
    "display(Math(r'\\begin{bmatrix} 1 \\\\ 2 \\\\ 3 \\end{bmatrix}'))\n"
   ]
  },
  {
   "cell_type": "code",
   "execution_count": 177,
   "metadata": {},
   "outputs": [],
   "source": [
    "class Vector(np.ndarray):\n",
    "    \"\"\"\n",
    "    A class representing a mathematical vector that inherits from numpy.ndarray.\n",
    "\n",
    "    This ensures that the Vector behaves like a numpy array and supports all\n",
    "    operations such as addition, multiplication, etc.\n",
    "\n",
    "    Attributes:\n",
    "        data (numpy.ndarray): The data of the vector as a 1D numpy array.\n",
    "    \"\"\"\n",
    "\n",
    "    def __new__(cls, data):\n",
    "        \n",
    "        try:\n",
    "            import IPython\n",
    "            get_ipython()  # type: ignore\n",
    "            cls.ipython_env = True\n",
    "        except:\n",
    "            cls.ipython_env = False\n",
    "\n",
    "        # Convert input data into a numpy array and ensure it's a 1D vector\n",
    "        obj = np.asarray(data).squeeze()  # Remove any singleton dimensions\n",
    "\n",
    "        # If it's a 2D column vector, flatten it to 1D\n",
    "        if obj.ndim == 2 and obj.shape[1] == 1:\n",
    "            obj = obj.flatten()\n",
    "\n",
    "        # If it's not a 1D array after squeezing, raise an error\n",
    "        if obj.ndim != 1:\n",
    "            raise ValueError(\"A vector must be a 1D array.\")\n",
    "\n",
    "        # Return a new object with the desired class (Vector)\n",
    "        return obj.view(cls)\n",
    "\n",
    "\n",
    "    def __repr__(self):\n",
    "        # If there are more than 5 elements, format it with first 2, ellipsis, and last 2\n",
    "        if self.ipython_env:\n",
    "\n",
    "            if len(self) > 5:\n",
    "                latex_repr = (\n",
    "                    r\"Vector\\left(\\begin{bmatrix} \"\n",
    "                    + \" \\\\\\\\ \".join(map(str, self[:2]))\n",
    "                    + r\" \\\\\\\\ \\vdots \\\\\\\\ \"\n",
    "                    + \" \\\\\\\\ \".join(map(str, self[-2:]))\n",
    "                    + r\" \\end{bmatrix}\\right)\"\n",
    "                )\n",
    "            else:\n",
    "                latex_repr = (\n",
    "                    r\"Vector\\left(\\begin{bmatrix} \"\n",
    "                    + \" \\\\\\\\ \".join(map(str, self))\n",
    "                    + r\" \\end{bmatrix}\\right)\"\n",
    "                )\n",
    "\n",
    "            display(Math(latex_repr))\n",
    "            return \"\"\n",
    "        else:\n",
    "            return f\"Vector({', '.join(map(str, self))})\"\n",
    "\n",
    "    def add_vector(self, vector):\n",
    "\n",
    "        # Ensure 'vector' is a Vector instance\n",
    "        if not isinstance(vector, Vector):\n",
    "            vector = Vector(vector)\n",
    "\n",
    "        # Check if shapes are compatible\n",
    "        if self.shape != vector.shape:\n",
    "            raise ValueError(f\"Shapes must be equal, got {self.shape} + {vector.shape}\")\n",
    "\n",
    "        # Perform addition and return a new Vector instance\n",
    "        return Vector(self + vector)\n",
    "\n",
    "    def scalar_multiply(self, scalar: int | float):\n",
    "        if not isinstance(scalar, (int, float)):\n",
    "            raise TypeError(f\"`scalar` must be of type `int|float`, got {type(scalar)}\")\n",
    "\n",
    "        return Vector(self * scalar)\n",
    "\n",
    "    def is_dependent(self, *vectors) -> bool:\n",
    "        if not vectors:\n",
    "            raise ValueError(\"No input provided.\")\n",
    "\n",
    "        vectors = [Vector(v) if not isinstance(v, Vector) else v for v in vectors]\n",
    "        vectors.insert(0, self)  # include a first vector\n",
    "        matrix = Matrix(np.array(vectors)).T\n",
    "\n",
    "        rank = np.linalg.matrix_rank(matrix)\n",
    "        vector_num = matrix.shape[1]  # col num = vector num\n",
    "        print(\"Matrix:\", matrix)\n",
    "        print(\"Rank:\", rank)\n",
    "        print(\"Shape:\", matrix.shape)\n",
    "        print(\"Dims:\", matrix.ndim)\n",
    "        print(\"Cols:\", vector_num)\n",
    "        return rank < vector_num\n",
    "\n",
    "    def is_linear_combination(self, vector):\n",
    "        return self.is_dependent(vector)\n",
    "\n",
    "\n",
    "class Matrix(np.ndarray):\n",
    "    \"\"\"\n",
    "    A class representing a mathematical matrix that inherits from numpy.ndarray.\n",
    "\n",
    "    This ensures that the Matrix behaves like a numpy array and supports all\n",
    "    operations such as addition, multiplication, etc.\n",
    "\n",
    "    Attributes:\n",
    "        data (numpy.ndarray): The data of the matrix as a 2D numpy array.\n",
    "    \"\"\"\n",
    "\n",
    "    def __new__(cls, data):\n",
    "        # Convert input data into a numpy array and ensure it's 2D\n",
    "        obj = np.asarray(data)\n",
    "        if obj.ndim not in [1, 2]:\n",
    "            raise ValueError(\"A matrix must be either a 1D or 2D array.\")\n",
    "\n",
    "        # Handle 1D array by reshaping it into a 1xN matrix\n",
    "        if obj.ndim == 1:\n",
    "            obj = obj.reshape(1, -1)\n",
    "\n",
    "        # Handle single-column matrix to row vector conversion\n",
    "        if obj.ndim == 2 and obj.shape[1] == 1:\n",
    "            obj = obj.T\n",
    "\n",
    "        return obj.view(cls)\n",
    "\n",
    "    def __repr__(self):\n",
    "        return super().__repr__()\n",
    "\n",
    "    def rank(self):\n",
    "        return np.linalg.matrix_rank(self)"
   ]
  },
  {
   "cell_type": "code",
   "execution_count": 183,
   "metadata": {},
   "outputs": [
    {
     "data": {
      "text/plain": [
       "True"
      ]
     },
     "execution_count": 183,
     "metadata": {},
     "output_type": "execute_result"
    }
   ],
   "source": [
    "_a = [1, 2, 3]\n",
    "_b = [11, 22, 33]\n",
    "_c = [111, 222, 333, 444]\n",
    "_d = [1, 5, 19]\n",
    "a, b, c, d = Vector(_a), Vector(_b), Vector(_c), Vector(_d)\n",
    "np.allclose(*(b/a))\n",
    "# a, b\n",
    "# Display the vectors horizontally (max of 3 vectors)"
   ]
  },
  {
   "cell_type": "code",
   "execution_count": 176,
   "metadata": {},
   "outputs": [
    {
     "ename": "AttributeError",
     "evalue": "'Vector' object has no attribute 'ipython_env'",
     "output_type": "error",
     "traceback": [
      "\u001b[1;31m---------------------------------------------------------------------------\u001b[0m",
      "\u001b[1;31mAttributeError\u001b[0m                            Traceback (most recent call last)",
      "File \u001b[1;32mc:\\Users\\ASUS\\anaconda3\\envs\\tf_env\\lib\\site-packages\\IPython\\core\\formatters.py:708\u001b[0m, in \u001b[0;36mPlainTextFormatter.__call__\u001b[1;34m(self, obj)\u001b[0m\n\u001b[0;32m    701\u001b[0m stream \u001b[38;5;241m=\u001b[39m StringIO()\n\u001b[0;32m    702\u001b[0m printer \u001b[38;5;241m=\u001b[39m pretty\u001b[38;5;241m.\u001b[39mRepresentationPrinter(stream, \u001b[38;5;28mself\u001b[39m\u001b[38;5;241m.\u001b[39mverbose,\n\u001b[0;32m    703\u001b[0m     \u001b[38;5;28mself\u001b[39m\u001b[38;5;241m.\u001b[39mmax_width, \u001b[38;5;28mself\u001b[39m\u001b[38;5;241m.\u001b[39mnewline,\n\u001b[0;32m    704\u001b[0m     max_seq_length\u001b[38;5;241m=\u001b[39m\u001b[38;5;28mself\u001b[39m\u001b[38;5;241m.\u001b[39mmax_seq_length,\n\u001b[0;32m    705\u001b[0m     singleton_pprinters\u001b[38;5;241m=\u001b[39m\u001b[38;5;28mself\u001b[39m\u001b[38;5;241m.\u001b[39msingleton_printers,\n\u001b[0;32m    706\u001b[0m     type_pprinters\u001b[38;5;241m=\u001b[39m\u001b[38;5;28mself\u001b[39m\u001b[38;5;241m.\u001b[39mtype_printers,\n\u001b[0;32m    707\u001b[0m     deferred_pprinters\u001b[38;5;241m=\u001b[39m\u001b[38;5;28mself\u001b[39m\u001b[38;5;241m.\u001b[39mdeferred_printers)\n\u001b[1;32m--> 708\u001b[0m \u001b[43mprinter\u001b[49m\u001b[38;5;241;43m.\u001b[39;49m\u001b[43mpretty\u001b[49m\u001b[43m(\u001b[49m\u001b[43mobj\u001b[49m\u001b[43m)\u001b[49m\n\u001b[0;32m    709\u001b[0m printer\u001b[38;5;241m.\u001b[39mflush()\n\u001b[0;32m    710\u001b[0m \u001b[38;5;28;01mreturn\u001b[39;00m stream\u001b[38;5;241m.\u001b[39mgetvalue()\n",
      "File \u001b[1;32mc:\\Users\\ASUS\\anaconda3\\envs\\tf_env\\lib\\site-packages\\IPython\\lib\\pretty.py:410\u001b[0m, in \u001b[0;36mRepresentationPrinter.pretty\u001b[1;34m(self, obj)\u001b[0m\n\u001b[0;32m    407\u001b[0m                         \u001b[38;5;28;01mreturn\u001b[39;00m meth(obj, \u001b[38;5;28mself\u001b[39m, cycle)\n\u001b[0;32m    408\u001b[0m                 \u001b[38;5;28;01mif\u001b[39;00m \u001b[38;5;28mcls\u001b[39m \u001b[38;5;129;01mis\u001b[39;00m \u001b[38;5;129;01mnot\u001b[39;00m \u001b[38;5;28mobject\u001b[39m \\\n\u001b[0;32m    409\u001b[0m                         \u001b[38;5;129;01mand\u001b[39;00m \u001b[38;5;28mcallable\u001b[39m(\u001b[38;5;28mcls\u001b[39m\u001b[38;5;241m.\u001b[39m\u001b[38;5;18m__dict__\u001b[39m\u001b[38;5;241m.\u001b[39mget(\u001b[38;5;124m'\u001b[39m\u001b[38;5;124m__repr__\u001b[39m\u001b[38;5;124m'\u001b[39m)):\n\u001b[1;32m--> 410\u001b[0m                     \u001b[38;5;28;01mreturn\u001b[39;00m \u001b[43m_repr_pprint\u001b[49m\u001b[43m(\u001b[49m\u001b[43mobj\u001b[49m\u001b[43m,\u001b[49m\u001b[43m \u001b[49m\u001b[38;5;28;43mself\u001b[39;49m\u001b[43m,\u001b[49m\u001b[43m \u001b[49m\u001b[43mcycle\u001b[49m\u001b[43m)\u001b[49m\n\u001b[0;32m    412\u001b[0m     \u001b[38;5;28;01mreturn\u001b[39;00m _default_pprint(obj, \u001b[38;5;28mself\u001b[39m, cycle)\n\u001b[0;32m    413\u001b[0m \u001b[38;5;28;01mfinally\u001b[39;00m:\n",
      "File \u001b[1;32mc:\\Users\\ASUS\\anaconda3\\envs\\tf_env\\lib\\site-packages\\IPython\\lib\\pretty.py:778\u001b[0m, in \u001b[0;36m_repr_pprint\u001b[1;34m(obj, p, cycle)\u001b[0m\n\u001b[0;32m    776\u001b[0m \u001b[38;5;250m\u001b[39m\u001b[38;5;124;03m\"\"\"A pprint that just redirects to the normal repr function.\"\"\"\u001b[39;00m\n\u001b[0;32m    777\u001b[0m \u001b[38;5;66;03m# Find newlines and replace them with p.break_()\u001b[39;00m\n\u001b[1;32m--> 778\u001b[0m output \u001b[38;5;241m=\u001b[39m \u001b[38;5;28;43mrepr\u001b[39;49m\u001b[43m(\u001b[49m\u001b[43mobj\u001b[49m\u001b[43m)\u001b[49m\n\u001b[0;32m    779\u001b[0m lines \u001b[38;5;241m=\u001b[39m output\u001b[38;5;241m.\u001b[39msplitlines()\n\u001b[0;32m    780\u001b[0m \u001b[38;5;28;01mwith\u001b[39;00m p\u001b[38;5;241m.\u001b[39mgroup():\n",
      "Cell \u001b[1;32mIn[174], line 38\u001b[0m, in \u001b[0;36mVector.__repr__\u001b[1;34m(self)\u001b[0m\n\u001b[0;32m     36\u001b[0m \u001b[38;5;28;01mdef\u001b[39;00m \u001b[38;5;21m__repr__\u001b[39m(\u001b[38;5;28mself\u001b[39m):\n\u001b[0;32m     37\u001b[0m     \u001b[38;5;66;03m# If there are more than 5 elements, format it with first 2, ellipsis, and last 2\u001b[39;00m\n\u001b[1;32m---> 38\u001b[0m     \u001b[38;5;28;01mif\u001b[39;00m \u001b[38;5;28;43mself\u001b[39;49m\u001b[38;5;241;43m.\u001b[39;49m\u001b[43mipython_env\u001b[49m:\n\u001b[0;32m     40\u001b[0m         \u001b[38;5;28;01mif\u001b[39;00m \u001b[38;5;28mlen\u001b[39m(\u001b[38;5;28mself\u001b[39m) \u001b[38;5;241m>\u001b[39m \u001b[38;5;241m5\u001b[39m:\n\u001b[0;32m     41\u001b[0m             latex_repr \u001b[38;5;241m=\u001b[39m (\n\u001b[0;32m     42\u001b[0m                 \u001b[38;5;124mr\u001b[39m\u001b[38;5;124m\"\u001b[39m\u001b[38;5;124mVector\u001b[39m\u001b[38;5;124m\\\u001b[39m\u001b[38;5;124mleft(\u001b[39m\u001b[38;5;124m\\\u001b[39m\u001b[38;5;124mbegin\u001b[39m\u001b[38;5;132;01m{bmatrix}\u001b[39;00m\u001b[38;5;124m \u001b[39m\u001b[38;5;124m\"\u001b[39m\n\u001b[0;32m     43\u001b[0m                 \u001b[38;5;241m+\u001b[39m \u001b[38;5;124m\"\u001b[39m\u001b[38;5;124m \u001b[39m\u001b[38;5;130;01m\\\\\u001b[39;00m\u001b[38;5;130;01m\\\\\u001b[39;00m\u001b[38;5;124m \u001b[39m\u001b[38;5;124m\"\u001b[39m\u001b[38;5;241m.\u001b[39mjoin(\u001b[38;5;28mmap\u001b[39m(\u001b[38;5;28mstr\u001b[39m, \u001b[38;5;28mself\u001b[39m[:\u001b[38;5;241m2\u001b[39m]))\n\u001b[1;32m   (...)\u001b[0m\n\u001b[0;32m     46\u001b[0m                 \u001b[38;5;241m+\u001b[39m \u001b[38;5;124mr\u001b[39m\u001b[38;5;124m\"\u001b[39m\u001b[38;5;124m \u001b[39m\u001b[38;5;124m\\\u001b[39m\u001b[38;5;124mend\u001b[39m\u001b[38;5;132;01m{bmatrix}\u001b[39;00m\u001b[38;5;124m\\\u001b[39m\u001b[38;5;124mright)\u001b[39m\u001b[38;5;124m\"\u001b[39m\n\u001b[0;32m     47\u001b[0m             )\n",
      "\u001b[1;31mAttributeError\u001b[0m: 'Vector' object has no attribute 'ipython_env'"
     ]
    }
   ],
   "source": [
    "a/b"
   ]
  },
  {
   "cell_type": "code",
   "execution_count": 169,
   "metadata": {},
   "outputs": [
    {
     "data": {
      "text/latex": [
       "$\\displaystyle Vector\\left(\\begin{bmatrix} 12 \\\\ 24 \\\\ 36 \\end{bmatrix}\\right)$"
      ],
      "text/plain": [
       "<IPython.core.display.Math object>"
      ]
     },
     "metadata": {},
     "output_type": "display_data"
    },
    {
     "data": {
      "text/plain": []
     },
     "execution_count": 169,
     "metadata": {},
     "output_type": "execute_result"
    }
   ],
   "source": [
    "a.add_vector(b)"
   ]
  },
  {
   "cell_type": "code",
   "execution_count": 170,
   "metadata": {},
   "outputs": [
    {
     "data": {
      "text/latex": [
       "$\\displaystyle Vector\\left(\\begin{bmatrix} 21 \\\\ 42 \\\\ 63 \\end{bmatrix}\\right)$"
      ],
      "text/plain": [
       "<IPython.core.display.Math object>"
      ]
     },
     "metadata": {},
     "output_type": "display_data"
    },
    {
     "data": {
      "text/plain": []
     },
     "execution_count": 170,
     "metadata": {},
     "output_type": "execute_result"
    }
   ],
   "source": [
    "a.scalar_multiply(21)"
   ]
  },
  {
   "cell_type": "code",
   "execution_count": 171,
   "metadata": {},
   "outputs": [
    {
     "name": "stdout",
     "output_type": "stream",
     "text": [
      "Matrix: [[ 1  1]\n",
      " [ 2  5]\n",
      " [ 3 19]]\n",
      "Rank: 2\n",
      "Shape: (3, 2)\n",
      "Dims: 2\n",
      "Cols: 2\n"
     ]
    },
    {
     "data": {
      "text/plain": [
       "False"
      ]
     },
     "execution_count": 171,
     "metadata": {},
     "output_type": "execute_result"
    }
   ],
   "source": [
    "a.is_dependent(d)"
   ]
  },
  {
   "cell_type": "code",
   "execution_count": 172,
   "metadata": {},
   "outputs": [
    {
     "name": "stdout",
     "output_type": "stream",
     "text": [
      "Matrix: [[ 1  1]\n",
      " [ 2  5]\n",
      " [ 3 19]]\n",
      "Rank: 2\n",
      "Shape: (3, 2)\n",
      "Dims: 2\n",
      "Cols: 2\n"
     ]
    },
    {
     "data": {
      "text/plain": [
       "False"
      ]
     },
     "execution_count": 172,
     "metadata": {},
     "output_type": "execute_result"
    }
   ],
   "source": [
    "a.is_linear_combination(d)"
   ]
  }
 ],
 "metadata": {
  "kernelspec": {
   "display_name": "tf_env",
   "language": "python",
   "name": "python3"
  },
  "language_info": {
   "codemirror_mode": {
    "name": "ipython",
    "version": 3
   },
   "file_extension": ".py",
   "mimetype": "text/x-python",
   "name": "python",
   "nbconvert_exporter": "python",
   "pygments_lexer": "ipython3",
   "version": "3.10.13"
  }
 },
 "nbformat": 4,
 "nbformat_minor": 2
}
