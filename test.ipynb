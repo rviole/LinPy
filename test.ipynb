{
 "cells": [
  {
   "cell_type": "code",
   "execution_count": 1,
   "metadata": {},
   "outputs": [],
   "source": [
    "import numpy as np\n",
    "from production.Tools import Vector, Matrix"
   ]
  },
  {
   "cell_type": "code",
   "execution_count": 2,
   "metadata": {},
   "outputs": [],
   "source": [
    "\n",
    "def is_dependent(*args):\n",
    "    if not args:\n",
    "        raise ValueError(\"No input provided.\")\n",
    "\n",
    "    if len(args) == 1:\n",
    "        # a  matrix\n",
    "        matrix = args[0]\n",
    "        matrix = Matrix(matrix).data if not isinstance(matrix, Matrix) else matrix\n",
    "\n",
    "    else:\n",
    "        vectors = [Vector(v).data if not isinstance(v, Vector) else v for v in args]\n",
    "        matrix = Matrix(np.array(vectors)).data\n",
    "\n",
    "    rank = np.linalg.matrix_rank(matrix)\n",
    "    vector_num = matrix.data.shape[1]  # col num = vector num\n",
    "    print(\"Matrix:\", matrix)\n",
    "    print(\"Rank:\", rank)\n",
    "    print(\"Shape:\", matrix.shape)\n",
    "    print(\"Dims:\", matrix.ndim)\n",
    "    print(\"Cols:\", vector_num)\n",
    "    return rank < vector_num"
   ]
  },
  {
   "cell_type": "code",
   "execution_count": null,
   "metadata": {},
   "outputs": [],
   "source": [
    "\n",
    "\n",
    "\n",
    "a = np.array([1, 2])\n",
    "b = np.array([4, 8])\n",
    "c = np.array([a, b]).T\n",
    "\n",
    "\n",
    "\n",
    "is_dependent(c)  # test for matrix NDARRAY\n",
    "is_dependent([[1, 4], [2, 8]])  # test for matrix NO NDARRAY\n",
    "\n",
    "\n",
    "is_dependent([1], [2], [3])  # test for vector NDARRAYS\n",
    "is_dependent([[1, 4], [2, 8]])  # test for matrix NO NDARRAY"
   ]
  },
  {
   "cell_type": "code",
   "execution_count": null,
   "metadata": {},
   "outputs": [],
   "source": [
    "m = [[1, 0, 0], [0, 1, 0], [0, 0, 1]]\n",
    "m = np.array(m)\n",
    "m_rank = np.linalg.matrix_rank(m)\n",
    "\n",
    "matrix = Matrix(m)\n",
    "matrix_rank = np.linalg.matrix_rank(matrix.data)\n",
    "\n",
    "m_rank, matrix.rank()\n",
    "is_dependent(m)"
   ]
  },
  {
   "cell_type": "code",
   "execution_count": null,
   "metadata": {},
   "outputs": [],
   "source": [
    "v1 = [1, 0, 0]\n",
    "v2 = [0, 1, 0]\n",
    "v3 = [0, 0, 1]\n",
    "\n",
    "is_dependent(v1, v2, v3)"
   ]
  },
  {
   "cell_type": "code",
   "execution_count": 4,
   "metadata": {},
   "outputs": [],
   "source": [
    "import numpy as np\n",
    "from production.Tools import Vector, Matrix\n",
    "from typing import Optional, Literal"
   ]
  },
  {
   "cell_type": "code",
   "execution_count": null,
   "metadata": {},
   "outputs": [],
   "source": [
    "def is_linear_transformation(\n",
    "    transformation_matrix: Matrix,\n",
    "    v1: Optional[Vector] = None,\n",
    "    v2: Optional[Vector] = None,\n",
    "    c: Optional[float] = None,\n",
    "):\n",
    "    # generate 2 random 2D vectors\n",
    "    if not (v1 and v2):\n",
    "        v1, v2 = np.random.random(size=(2, 2))\n",
    "        v1, v2 = Vector(v1), Vector(v2)\n",
    "    else:\n",
    "        if not isinstance(v1, Vector):\n",
    "            v1 = Vector(v1)\n",
    "        elif not isinstance(v2, Vector):\n",
    "            v2 = Vector(v2)\n",
    "    # random scalar\n",
    "    c = np.random.rand()\n",
    "\n",
    "    A = (\n",
    "        Matrix(transformation_matrix)\n",
    "        if not isinstance(transformation_matrix, Matrix)\n",
    "        else transformation_matrix\n",
    "    )\n",
    "\n",
    "    additivity = np.allclose(A @ (v1 + v2), A @ v1 + A @ v2)\n",
    "    homogeneity = np.allclose(A @ (c * v1), c * (A @ v1))\n",
    "\n",
    "    print(additivity, homogeneity)\n",
    "    return additivity and homogeneity\n",
    "\n",
    "\n",
    "is_linear_transformation([[-1, 0], [0, 1]])"
   ]
  },
  {
   "cell_type": "code",
   "execution_count": null,
   "metadata": {},
   "outputs": [],
   "source": [
    "def apply_rotation(\n",
    "    base_vector, angle: float | int, direction: Literal[\"right\", \"left\"] = \"right\"\n",
    "):\n",
    "    num_coordinates = base_vector.shape[0]\n",
    "    num_vectors = base_vector.shape[1]\n",
    "\n",
    "def rotate_30(direction: Literal[\"right\", \"left\"] = \"right\"):\n",
    "    pass\n",
    "\n",
    "def rotate_45(direction: Literal[\"right\", \"left\"] = \"right\"):\n",
    "    pass\n",
    "\n",
    "def rotate_2D_90(self, direction: Literal[\"right\", \"left\"] = \"right\"):\n",
    "    if direction == \"right\":\n",
    "        A = Matrix([[0, -1], [1, 0]])\n",
    "    elif direction == \"left\":\n",
    "        A = Matrix([[-1, 0], [0, 1]])\n",
    "\n",
    "    return A @ self\n",
    "    \n",
    "def rotate_180(direction: Literal[\"right\", \"left\"] = \"right\"):\n",
    "    pass\n",
    "\n",
    "def rotate_270(direction: Literal[\"right\", \"left\"] = \"right\"):\n",
    "    pass\n",
    "\n",
    "def rotate_360(direction: Literal[\"right\", \"left\"] = \"right\"):\n",
    "    pass"
   ]
  },
  {
   "cell_type": "code",
   "execution_count": null,
   "metadata": {},
   "outputs": [],
   "source": [
    "Matrix([[1, 2], [4, 5]]).rotate_2D_90()"
   ]
  },
  {
   "cell_type": "markdown",
   "metadata": {},
   "source": [
    "---"
   ]
  },
  {
   "cell_type": "code",
   "execution_count": 1,
   "metadata": {},
   "outputs": [],
   "source": [
    "import numpy as np\n",
    "from IPython.display import display, Math\n",
    "from typing import Optional\n"
   ]
  },
  {
   "cell_type": "code",
   "execution_count": 10,
   "metadata": {},
   "outputs": [],
   "source": [
    "class Vector(np.ndarray):\n",
    "    \"\"\"\n",
    "    A class representing a mathematical vector that inherits from numpy.ndarray.\n",
    "\n",
    "    This ensures that the Vector behaves like a numpy array and supports all\n",
    "    operations such as addition, multiplication, etc.\n",
    "\n",
    "    Attributes:\n",
    "        data (numpy.ndarray): The data of the vector as a 1D numpy array.\n",
    "    \"\"\"\n",
    "\n",
    "    def __new__(cls, data):\n",
    "        \n",
    "        try:\n",
    "            import IPython\n",
    "            get_ipython()  # type: ignore\n",
    "            cls.ipython_env = True\n",
    "        except:\n",
    "            cls.ipython_env = False\n",
    "\n",
    "        # Convert input data into a numpy array and ensure it's a 1D vector\n",
    "        obj = np.asarray(data).squeeze()  # Remove any singleton dimensions\n",
    "\n",
    "        # If it's a 2D column vector, flatten it to 1D\n",
    "        if obj.ndim == 2 and obj.shape[1] == 1:\n",
    "            obj = obj.flatten()\n",
    "\n",
    "        # If it's not a 1D array after squeezing, raise an error\n",
    "        if obj.ndim != 1:\n",
    "            raise ValueError(\"A vector must be a 1D array.\")\n",
    "\n",
    "        # Return a new object with the desired class (Vector)\n",
    "        return obj.view(cls)\n",
    "\n",
    "    def __repr__(self):\n",
    "        # If there are more than 5 elements, format it with first 2, ellipsis, and last 2\n",
    "        if self.ipython_env:\n",
    "\n",
    "            if len(self) > 5:\n",
    "                latex_repr = (\n",
    "                    r\"Vector\\left(\\begin{bmatrix} \"\n",
    "                    + \" \\\\\\\\ \".join(map(str, self[:2]))\n",
    "                    + r\" \\\\\\\\ \\vdots \\\\\\\\ \"\n",
    "                    + \" \\\\\\\\ \".join(map(str, self[-2:]))\n",
    "                    + r\" \\end{bmatrix}\\right)\"\n",
    "                )\n",
    "            else:\n",
    "                latex_repr = (\n",
    "                    r\"Vector\\left(\\begin{bmatrix} \"\n",
    "                    + \" \\\\\\\\ \".join(map(str, self))\n",
    "                    + r\" \\end{bmatrix}\\right)\"\n",
    "                )\n",
    "\n",
    "            display(Math(latex_repr))\n",
    "            return \"\"\n",
    "        else:\n",
    "            return f\"Vector({', '.join(map(str, self))})\"\n",
    "\n",
    "    def add_vector(self, vector):\n",
    "        base_vector = self\n",
    "\n",
    "        # Ensure 'vector' is a Vector instance\n",
    "        if not isinstance(vector, Vector):\n",
    "            vector = Vector(vector)\n",
    "\n",
    "        # Check if shapes are compatible\n",
    "        if base_vector.shape != vector.shape:\n",
    "            raise ValueError(f\"Shapes must be equal, got {base_vector.shape} + {vector.shape}\")\n",
    "\n",
    "        # Perform addition and return a new Vector instance\n",
    "        return Vector(base_vector + vector)\n",
    "\n",
    "    def subtract_vector(self, vector):\n",
    "        base_vector = self\n",
    "        \n",
    "        # Ensure 'vector' is a Vector instance\n",
    "        if not isinstance(vector, Vector):\n",
    "            vector = Vector(vector)\n",
    "\n",
    "        # Check if shapes are compatible\n",
    "        if base_vector.shape != vector.shape:\n",
    "            raise ValueError(f\"Shapes must be equal, got {base_vector.shape} - {vector.shape}\")\n",
    "\n",
    "        # Perform subtraction and return a new Vector instance\n",
    "        return Vector(base_vector - vector)\n",
    "\n",
    "    def scalar_multiply(self, scalar: int | float):\n",
    "        base_vector = self\n",
    "        \n",
    "        if not isinstance(scalar, (int, float)):\n",
    "            raise TypeError(f\"`scalar` must be of type `int|float`, got {type(scalar)}\")\n",
    "\n",
    "        return Vector(base_vector * scalar)\n",
    "\n",
    "    def is_dependent(self, *vectors) -> bool:\n",
    "        base_vector = self\n",
    "        if not vectors:\n",
    "            raise ValueError(\"No input provided.\")\n",
    "\n",
    "        vectors = [base_vector] + [Vector(v) if not isinstance(v, Vector) else v for v in vectors]\n",
    "        matrix = np.column_stack(vectors)\n",
    "\n",
    "        rank = np.linalg.matrix_rank(matrix)\n",
    "        vector_num = matrix.shape[1]  # col num = vector num\n",
    "        print(\"Matrix:\", matrix)\n",
    "        print(\"Rank:\", rank)\n",
    "        print(\"Shape:\", matrix.shape)\n",
    "        print(\"Dims:\", matrix.ndim)\n",
    "        print(\"Cols:\", vector_num)\n",
    "        return bool(rank < vector_num)\n",
    "\n",
    "    def find_linear_combination(self, *vectors) -> Optional[np.ndarray]:\n",
    "        base_vector = self\n",
    "        vectors = [Vector(v) if not isinstance(v, Vector) else v for v in vectors]\n",
    "        matrix = np.column_stack(vectors)\n",
    "        try:\n",
    "            coefficients, residuals, rank, s = np.linalg.lstsq(matrix, base_vector, rcond=None)\n",
    "          # If the residuals are sufficiently small, return the coefficients\n",
    "            if np.allclose(np.dot(matrix, coefficients), base_vector):  # Check if A*c is close to b\n",
    "                return coefficients\n",
    "            else:\n",
    "                return None  # No valid linear combination\n",
    "        except np.linalg.LinAlgError as e:\n",
    "            print(f\"An error occurred: {e}\")\n",
    "            return None  # In case of any numerical errors\n",
    "\n",
    "    def find_span(self, *basis_vectors, include_self: bool = False) -> dict:\n",
    "        base_vector = self\n",
    "        if not basis_vectors:  \n",
    "            vectors = [base_vector]\n",
    "        else:  \n",
    "            if include_self: \n",
    "                vectors = [base_vector] + [Vector(v) if not isinstance(v, Vector) else v for v in basis_vectors]\n",
    "            else:\n",
    "                vectors = [Vector(v) if not isinstance(v, Vector) else v for v in basis_vectors]\n",
    "                \n",
    "        matrix = np.column_stack(vectors)\n",
    "        output = {\n",
    "            \"rank\": 0,  # Dimension of the span (rank)\n",
    "            \"full_span\": False,  # Whether the span fills the entire space\n",
    "            \"zero_span\": False,  # Whether the span is trivial (zero vector only)\n",
    "        }\n",
    "        print(matrix)\n",
    "        rank = np.linalg.matrix_rank(matrix)\n",
    "        n_vectors = matrix.shape[1] # Number of vectors is equal to number of columns\n",
    "        output[\"rank\"] = int(rank)\n",
    "        print(rank, n_vectors)\n",
    "        if rank == 0:\n",
    "            output[\"zero_span\"] = True\n",
    "        elif rank == n_vectors:\n",
    "            output[\"full_span\"] = True\n",
    "        \n",
    "        return output\n",
    "   \n",
    "    def is_basis(self, *vectors) -> bool:\n",
    "        return not self.is_dependent(*vectors)\n",
    "             \n",
    "   \n",
    "class Matrix(np.ndarray):\n",
    "    \n",
    "    \"\"\"\n",
    "    A class representing a mathematical matrix that inherits from numpy.ndarray.\n",
    "\n",
    "    This ensures that the Matrix behaves like a numpy array and supports all\n",
    "    operations such as addition, multiplication, etc.\n",
    "\n",
    "    Attributes:\n",
    "        data (numpy.ndarray): The data of the matrix as a 2D numpy array.\n",
    "    \"\"\"\n",
    "\n",
    "    def __new__(cls, data):\n",
    "        # Convert input data into a numpy array and ensure it's 2D\n",
    "        obj = np.asarray(data)\n",
    "        if obj.ndim not in [1, 2]:\n",
    "            raise ValueError(\"A matrix must be either a 1D or 2D array.\")\n",
    "\n",
    "        # Handle 1D array by reshaping it into a 1xN matrix\n",
    "        if obj.ndim == 1:\n",
    "            obj = obj.reshape(1, -1)\n",
    "\n",
    "        # Handle single-column matrix to row vector conversion\n",
    "        if obj.ndim == 2 and obj.shape[1] == 1:\n",
    "            obj = obj.T\n",
    "\n",
    "        return obj.view(cls)\n",
    "\n",
    "    def __repr__(self):\n",
    "        return super().__repr__()\n",
    "\n",
    "    def rank(self):\n",
    "        return np.linalg.matrix_rank(self)"
   ]
  },
  {
   "cell_type": "code",
   "execution_count": 3,
   "metadata": {},
   "outputs": [],
   "source": [
    "_a = [1, 2, 3]\n",
    "_b = [11, 22, 33]\n",
    "_c = [111, 222, 333]\n",
    "_d = [111, 222, 333, 444]\n",
    "_e = [1, 5, 19]\n",
    "a, b, c, d, e = Vector(_a), Vector(_b), Vector(_c), Vector(_d), Vector(_e)"
   ]
  },
  {
   "cell_type": "code",
   "execution_count": 4,
   "metadata": {},
   "outputs": [
    {
     "name": "stdout",
     "output_type": "stream",
     "text": [
      "[[1 0 0]\n",
      " [0 1 0]\n",
      " [0 0 1]]\n",
      "3 3\n",
      "[[1 2]\n",
      " [2 4]\n",
      " [3 6]]\n",
      "1 2\n",
      "[[1 4]\n",
      " [2 5]\n",
      " [3 6]]\n",
      "2 2\n",
      "[[1 4]\n",
      " [2 5]\n",
      " [3 6]]\n",
      "2 2\n",
      "Span Result 1: {'rank': 3, 'full_span': True, 'zero_span': False}\n",
      "Span Result 2: {'rank': 1, 'full_span': False, 'zero_span': False}\n",
      "Span Result 3: {'rank': 2, 'full_span': True, 'zero_span': False}\n",
      "Span Result 4: {'rank': 2, 'full_span': True, 'zero_span': False}\n"
     ]
    }
   ],
   "source": [
    " # Create an instance of Vector A\n",
    "A = Vector([1, 2, 3])\n",
    "\n",
    "# Simple tests for .find_span method\n",
    "span_result_1 = A.find_span([1, 0, 0], [0, 1, 0], [0, 0, 1])\n",
    "span_result_2 = A.find_span([1, 2, 3], [2, 4, 6])\n",
    "span_result_3 = A.find_span([1, 2, 3], [4, 5, 6])\n",
    "span_result_4 = A.find_span( [4, 5, 6], include_self=True)\n",
    "\n",
    "print(\"Span Result 1:\", span_result_1)\n",
    "print(\"Span Result 2:\", span_result_2)\n",
    "print(\"Span Result 3:\", span_result_3)\n",
    "print(\"Span Result 4:\", span_result_4)"
   ]
  },
  {
   "cell_type": "code",
   "execution_count": 5,
   "metadata": {},
   "outputs": [
    {
     "name": "stdout",
     "output_type": "stream",
     "text": [
      "[0.0008841 0.0089214]\n"
     ]
    }
   ],
   "source": [
    "print(a.find_linear_combination(b, c))"
   ]
  },
  {
   "cell_type": "code",
   "execution_count": 6,
   "metadata": {},
   "outputs": [
    {
     "data": {
      "text/latex": [
       "$\\displaystyle Vector\\left(\\begin{bmatrix} 1.0000004999999998 \\\\ 2.0000009999999997 \\\\ 3.0000014999999998 \\end{bmatrix}\\right)$"
      ],
      "text/plain": [
       "<IPython.core.display.Math object>"
      ]
     },
     "metadata": {},
     "output_type": "display_data"
    },
    {
     "data": {
      "text/plain": []
     },
     "execution_count": 6,
     "metadata": {},
     "output_type": "execute_result"
    }
   ],
   "source": [
    "0.0008841  * b + 0.0089214 * c"
   ]
  },
  {
   "cell_type": "code",
   "execution_count": 7,
   "metadata": {},
   "outputs": [
    {
     "data": {
      "text/latex": [
       "$\\displaystyle Vector\\left(\\begin{bmatrix} 12 \\\\ 24 \\\\ 36 \\end{bmatrix}\\right)$"
      ],
      "text/plain": [
       "<IPython.core.display.Math object>"
      ]
     },
     "metadata": {},
     "output_type": "display_data"
    },
    {
     "data": {
      "text/plain": []
     },
     "execution_count": 7,
     "metadata": {},
     "output_type": "execute_result"
    }
   ],
   "source": [
    "a.add_vector(b)"
   ]
  },
  {
   "cell_type": "code",
   "execution_count": 8,
   "metadata": {},
   "outputs": [
    {
     "data": {
      "text/latex": [
       "$\\displaystyle Vector\\left(\\begin{bmatrix} 21 \\\\ 42 \\\\ 63 \\end{bmatrix}\\right)$"
      ],
      "text/plain": [
       "<IPython.core.display.Math object>"
      ]
     },
     "metadata": {},
     "output_type": "display_data"
    },
    {
     "data": {
      "text/plain": []
     },
     "execution_count": 8,
     "metadata": {},
     "output_type": "execute_result"
    }
   ],
   "source": [
    "a.scalar_multiply(21)"
   ]
  },
  {
   "cell_type": "code",
   "execution_count": 9,
   "metadata": {},
   "outputs": [
    {
     "ename": "ValueError",
     "evalue": "setting an array element with a sequence. The requested array has an inhomogeneous shape after 1 dimensions. The detected shape was (2,) + inhomogeneous part.",
     "output_type": "error",
     "traceback": [
      "\u001b[1;31m---------------------------------------------------------------------------\u001b[0m",
      "\u001b[1;31mValueError\u001b[0m                                Traceback (most recent call last)",
      "Cell \u001b[1;32mIn[9], line 1\u001b[0m\n\u001b[1;32m----> 1\u001b[0m \u001b[43ma\u001b[49m\u001b[38;5;241;43m.\u001b[39;49m\u001b[43mis_dependent\u001b[49m\u001b[43m(\u001b[49m\u001b[43md\u001b[49m\u001b[43m)\u001b[49m\n",
      "Cell \u001b[1;32mIn[2], line 102\u001b[0m, in \u001b[0;36mVector.is_dependent\u001b[1;34m(self, *vectors)\u001b[0m\n\u001b[0;32m    100\u001b[0m vectors \u001b[38;5;241m=\u001b[39m [Vector(v) \u001b[38;5;28;01mif\u001b[39;00m \u001b[38;5;129;01mnot\u001b[39;00m \u001b[38;5;28misinstance\u001b[39m(v, Vector) \u001b[38;5;28;01melse\u001b[39;00m v \u001b[38;5;28;01mfor\u001b[39;00m v \u001b[38;5;129;01min\u001b[39;00m vectors]\n\u001b[0;32m    101\u001b[0m vectors\u001b[38;5;241m.\u001b[39minsert(\u001b[38;5;241m0\u001b[39m, base_vector)  \u001b[38;5;66;03m# include a first vector\u001b[39;00m\n\u001b[1;32m--> 102\u001b[0m matrix \u001b[38;5;241m=\u001b[39m Matrix(\u001b[43mnp\u001b[49m\u001b[38;5;241;43m.\u001b[39;49m\u001b[43marray\u001b[49m\u001b[43m(\u001b[49m\u001b[43mvectors\u001b[49m\u001b[43m)\u001b[49m)\u001b[38;5;241m.\u001b[39mT\n\u001b[0;32m    104\u001b[0m rank \u001b[38;5;241m=\u001b[39m np\u001b[38;5;241m.\u001b[39mlinalg\u001b[38;5;241m.\u001b[39mmatrix_rank(matrix)\n\u001b[0;32m    105\u001b[0m vector_num \u001b[38;5;241m=\u001b[39m matrix\u001b[38;5;241m.\u001b[39mshape[\u001b[38;5;241m1\u001b[39m]  \u001b[38;5;66;03m# col num = vector num\u001b[39;00m\n",
      "\u001b[1;31mValueError\u001b[0m: setting an array element with a sequence. The requested array has an inhomogeneous shape after 1 dimensions. The detected shape was (2,) + inhomogeneous part."
     ]
    }
   ],
   "source": [
    "a.is_dependent(d)"
   ]
  },
  {
   "cell_type": "code",
   "execution_count": 57,
   "metadata": {},
   "outputs": [
    {
     "ename": "AttributeError",
     "evalue": "'Vector' object has no attribute 'is_linear_combination'",
     "output_type": "error",
     "traceback": [
      "\u001b[1;31m---------------------------------------------------------------------------\u001b[0m",
      "\u001b[1;31mAttributeError\u001b[0m                            Traceback (most recent call last)",
      "Cell \u001b[1;32mIn[57], line 1\u001b[0m\n\u001b[1;32m----> 1\u001b[0m \u001b[43ma\u001b[49m\u001b[38;5;241;43m.\u001b[39;49m\u001b[43mis_linear_combination\u001b[49m(d)\n",
      "\u001b[1;31mAttributeError\u001b[0m: 'Vector' object has no attribute 'is_linear_combination'"
     ]
    }
   ],
   "source": [
    "a.is_linear_combination(d)"
   ]
  }
 ],
 "metadata": {
  "kernelspec": {
   "display_name": "Python 3",
   "language": "python",
   "name": "python3"
  },
  "language_info": {
   "codemirror_mode": {
    "name": "ipython",
    "version": 3
   },
   "file_extension": ".py",
   "mimetype": "text/x-python",
   "name": "python",
   "nbconvert_exporter": "python",
   "pygments_lexer": "ipython3",
   "version": "3.13.1"
  }
 },
 "nbformat": 4,
 "nbformat_minor": 2
}
