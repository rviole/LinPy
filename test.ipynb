{
 "cells": [
  {
   "cell_type": "code",
   "execution_count": 1,
   "metadata": {},
   "outputs": [],
   "source": [
    "import numpy as np\n",
    "from production.Tools import Vector, Matrix"
   ]
  },
  {
   "cell_type": "code",
   "execution_count": 2,
   "metadata": {},
   "outputs": [],
   "source": [
    "\n",
    "def is_dependent(*args):\n",
    "    if not args:\n",
    "        raise ValueError(\"No input provided.\")\n",
    "\n",
    "    if len(args) == 1:\n",
    "        # a  matrix\n",
    "        matrix = args[0]\n",
    "        matrix = Matrix(matrix).data if not isinstance(matrix, Matrix) else matrix\n",
    "\n",
    "    else:\n",
    "        vectors = [Vector(v).data if not isinstance(v, Vector) else v for v in args]\n",
    "        matrix = Matrix(np.array(vectors)).data\n",
    "\n",
    "    rank = np.linalg.matrix_rank(matrix)\n",
    "    vector_num = matrix.data.shape[1]  # col num = vector num\n",
    "    print(\"Matrix:\", matrix)\n",
    "    print(\"Rank:\", rank)\n",
    "    print(\"Shape:\", matrix.shape)\n",
    "    print(\"Dims:\", matrix.ndim)\n",
    "    print(\"Cols:\", vector_num)\n",
    "    return rank < vector_num"
   ]
  },
  {
   "cell_type": "code",
   "execution_count": null,
   "metadata": {},
   "outputs": [],
   "source": [
    "\n",
    "\n",
    "\n",
    "a = np.array([1, 2])\n",
    "b = np.array([4, 8])\n",
    "c = np.array([a, b]).T\n",
    "\n",
    "\n",
    "\n",
    "is_dependent(c)  # test for matrix NDARRAY\n",
    "is_dependent([[1, 4], [2, 8]])  # test for matrix NO NDARRAY\n",
    "\n",
    "\n",
    "is_dependent([1], [2], [3])  # test for vector NDARRAYS\n",
    "is_dependent([[1, 4], [2, 8]])  # test for matrix NO NDARRAY"
   ]
  },
  {
   "cell_type": "code",
   "execution_count": null,
   "metadata": {},
   "outputs": [],
   "source": [
    "m = [[1, 0, 0], [0, 1, 0], [0, 0, 1]]\n",
    "m = np.array(m)\n",
    "m_rank = np.linalg.matrix_rank(m)\n",
    "\n",
    "matrix = Matrix(m)\n",
    "matrix_rank = np.linalg.matrix_rank(matrix.data)\n",
    "\n",
    "m_rank, matrix.rank()\n",
    "is_dependent(m)"
   ]
  },
  {
   "cell_type": "code",
   "execution_count": null,
   "metadata": {},
   "outputs": [],
   "source": [
    "v1 = [1, 0, 0]\n",
    "v2 = [0, 1, 0]\n",
    "v3 = [0, 0, 1]\n",
    "\n",
    "is_dependent(v1, v2, v3)"
   ]
  },
  {
   "cell_type": "code",
   "execution_count": 4,
   "metadata": {},
   "outputs": [],
   "source": [
    "import numpy as np\n",
    "from production.Tools import Vector, Matrix\n",
    "from typing import Optional, Literal"
   ]
  },
  {
   "cell_type": "code",
   "execution_count": null,
   "metadata": {},
   "outputs": [],
   "source": [
    "def is_linear_transformation(\n",
    "    transformation_matrix: Matrix,\n",
    "    v1: Optional[Vector] = None,\n",
    "    v2: Optional[Vector] = None,\n",
    "    c: Optional[float] = None,\n",
    "):\n",
    "    # generate 2 random 2D vectors\n",
    "    if not (v1 and v2):\n",
    "        v1, v2 = np.random.random(size=(2, 2))\n",
    "        v1, v2 = Vector(v1), Vector(v2)\n",
    "    else:\n",
    "        if not isinstance(v1, Vector):\n",
    "            v1 = Vector(v1)\n",
    "        elif not isinstance(v2, Vector):\n",
    "            v2 = Vector(v2)\n",
    "    # random scalar\n",
    "    c = np.random.rand()\n",
    "\n",
    "    A = (\n",
    "        Matrix(transformation_matrix)\n",
    "        if not isinstance(transformation_matrix, Matrix)\n",
    "        else transformation_matrix\n",
    "    )\n",
    "\n",
    "    additivity = np.allclose(A @ (v1 + v2), A @ v1 + A @ v2)\n",
    "    homogeneity = np.allclose(A @ (c * v1), c * (A @ v1))\n",
    "\n",
    "    print(additivity, homogeneity)\n",
    "    return additivity and homogeneity\n",
    "\n",
    "\n",
    "is_linear_transformation([[-1, 0], [0, 1]])"
   ]
  },
  {
   "cell_type": "code",
   "execution_count": null,
   "metadata": {},
   "outputs": [],
   "source": [
    "def apply_rotation(\n",
    "    base_vector, angle: float | int, direction: Literal[\"right\", \"left\"] = \"right\"\n",
    "):\n",
    "    num_coordinates = base_vector.shape[0]\n",
    "    num_vectors = base_vector.shape[1]\n",
    "\n",
    "def rotate_30(direction: Literal[\"right\", \"left\"] = \"right\"):\n",
    "    pass\n",
    "\n",
    "def rotate_45(direction: Literal[\"right\", \"left\"] = \"right\"):\n",
    "    pass\n",
    "\n",
    "def rotate_2D_90(self, direction: Literal[\"right\", \"left\"] = \"right\"):\n",
    "    if direction == \"right\":\n",
    "        A = Matrix([[0, -1], [1, 0]])\n",
    "    elif direction == \"left\":\n",
    "        A = Matrix([[-1, 0], [0, 1]])\n",
    "\n",
    "    return A @ self\n",
    "    \n",
    "def rotate_180(direction: Literal[\"right\", \"left\"] = \"right\"):\n",
    "    pass\n",
    "\n",
    "def rotate_270(direction: Literal[\"right\", \"left\"] = \"right\"):\n",
    "    pass\n",
    "\n",
    "def rotate_360(direction: Literal[\"right\", \"left\"] = \"right\"):\n",
    "    pass"
   ]
  },
  {
   "cell_type": "code",
   "execution_count": null,
   "metadata": {},
   "outputs": [],
   "source": [
    "Matrix([[1, 2], [4, 5]]).rotate_2D_90()"
   ]
  },
  {
   "cell_type": "markdown",
   "metadata": {},
   "source": [
    "---"
   ]
  },
  {
   "cell_type": "code",
   "execution_count": 1,
   "metadata": {},
   "outputs": [],
   "source": [
    "import numpy as np\n",
    "from IPython.display import display, Math\n",
    "from typing import Optional\n"
   ]
  },
  {
   "cell_type": "code",
   "execution_count": 10,
   "metadata": {},
   "outputs": [],
   "source": [
    "class Vector(np.ndarray):\n",
    "    \"\"\"\n",
    "    A class representing a mathematical vector that inherits from numpy.ndarray.\n",
    "\n",
    "    This ensures that the Vector behaves like a numpy array and supports all\n",
    "    operations such as addition, multiplication, etc.\n",
    "\n",
    "    Attributes:\n",
    "        data (numpy.ndarray): The data of the vector as a 1D numpy array.\n",
    "    \"\"\"\n",
    "\n",
    "    def __new__(cls, data):\n",
    "        \n",
    "        try:\n",
    "            import IPython\n",
    "            get_ipython()  # type: ignore\n",
    "            cls.ipython_env = True\n",
    "        except:\n",
    "            cls.ipython_env = False\n",
    "\n",
    "        # Convert input data into a numpy array and ensure it's a 1D vector\n",
    "        obj = np.asarray(data).squeeze()  # Remove any singleton dimensions\n",
    "\n",
    "        # If it's a 2D column vector, flatten it to 1D\n",
    "        if obj.ndim == 2 and obj.shape[1] == 1:\n",
    "            obj = obj.flatten()\n",
    "\n",
    "        # If it's not a 1D array after squeezing, raise an error\n",
    "        if obj.ndim != 1:\n",
    "            raise ValueError(\"A vector must be a 1D array.\")\n",
    "\n",
    "        # Return a new object with the desired class (Vector)\n",
    "        return obj.view(cls)\n",
    "\n",
    "    def __repr__(self):\n",
    "        # If there are more than 5 elements, format it with first 2, ellipsis, and last 2\n",
    "        if self.ipython_env:\n",
    "\n",
    "            if len(self) > 5:\n",
    "                latex_repr = (\n",
    "                    r\"Vector\\left(\\begin{bmatrix} \"\n",
    "                    + \" \\\\\\\\ \".join(map(str, self[:2]))\n",
    "                    + r\" \\\\\\\\ \\vdots \\\\\\\\ \"\n",
    "                    + \" \\\\\\\\ \".join(map(str, self[-2:]))\n",
    "                    + r\" \\end{bmatrix}\\right)\"\n",
    "                )\n",
    "            else:\n",
    "                latex_repr = (\n",
    "                    r\"Vector\\left(\\begin{bmatrix} \"\n",
    "                    + \" \\\\\\\\ \".join(map(str, self))\n",
    "                    + r\" \\end{bmatrix}\\right)\"\n",
    "                )\n",
    "\n",
    "            display(Math(latex_repr))\n",
    "            return \"\"\n",
    "        else:\n",
    "            return f\"Vector({', '.join(map(str, self))})\"\n",
    "\n",
    "    def add_vector(self, vector):\n",
    "        base_vector = self\n",
    "\n",
    "        # Ensure 'vector' is a Vector instance\n",
    "        if not isinstance(vector, Vector):\n",
    "            vector = Vector(vector)\n",
    "\n",
    "        # Check if shapes are compatible\n",
    "        if base_vector.shape != vector.shape:\n",
    "            raise ValueError(f\"Shapes must be equal, got {base_vector.shape} + {vector.shape}\")\n",
    "\n",
    "        # Perform addition and return a new Vector instance\n",
    "        return Vector(base_vector + vector)\n",
    "\n",
    "    def subtract_vector(self, vector):\n",
    "        base_vector = self\n",
    "        \n",
    "        # Ensure 'vector' is a Vector instance\n",
    "        if not isinstance(vector, Vector):\n",
    "            vector = Vector(vector)\n",
    "\n",
    "        # Check if shapes are compatible\n",
    "        if base_vector.shape != vector.shape:\n",
    "            raise ValueError(f\"Shapes must be equal, got {base_vector.shape} - {vector.shape}\")\n",
    "\n",
    "        # Perform subtraction and return a new Vector instance\n",
    "        return Vector(base_vector - vector)\n",
    "\n",
    "    def scalar_multiply(self, scalar: int | float):\n",
    "        base_vector = self\n",
    "        \n",
    "        if not isinstance(scalar, (int, float)):\n",
    "            raise TypeError(f\"`scalar` must be of type `int|float`, got {type(scalar)}\")\n",
    "\n",
    "        return Vector(base_vector * scalar)\n",
    "\n",
    "    def is_dependent(self, *vectors) -> bool:\n",
    "        base_vector = self\n",
    "        if not vectors:\n",
    "            raise ValueError(\"No input provided.\")\n",
    "\n",
    "        vectors = [base_vector] + [Vector(v) if not isinstance(v, Vector) else v for v in vectors]\n",
    "        matrix = np.column_stack(vectors)\n",
    "\n",
    "        rank = np.linalg.matrix_rank(matrix)\n",
    "        vector_num = matrix.shape[1]  # col num = vector num\n",
    "        print(\"Matrix:\", matrix)\n",
    "        print(\"Rank:\", rank)\n",
    "        print(\"Shape:\", matrix.shape)\n",
    "        print(\"Dims:\", matrix.ndim)\n",
    "        print(\"Cols:\", vector_num)\n",
    "        return bool(rank < vector_num)\n",
    "\n",
    "    def find_linear_combination(self, *vectors) -> Optional[np.ndarray]:\n",
    "        base_vector = self\n",
    "        vectors = [Vector(v) if not isinstance(v, Vector) else v for v in vectors]\n",
    "        matrix = np.column_stack(vectors)\n",
    "        try:\n",
    "            coefficients, residuals, rank, s = np.linalg.lstsq(matrix, base_vector, rcond=None)\n",
    "          # If the residuals are sufficiently small, return the coefficients\n",
    "            if np.allclose(np.dot(matrix, coefficients), base_vector):  # Check if A*c is close to b\n",
    "                return coefficients\n",
    "            else:\n",
    "                return None  # No valid linear combination\n",
    "        except np.linalg.LinAlgError as e:\n",
    "            print(f\"An error occurred: {e}\")\n",
    "            return None  # In case of any numerical errors\n",
    "\n",
    "    def find_span(self, *basis_vectors, include_self: bool = False) -> dict:\n",
    "        base_vector = self\n",
    "        if not basis_vectors:  \n",
    "            vectors = [base_vector]\n",
    "        else:  \n",
    "            if include_self: \n",
    "                vectors = [base_vector] + [Vector(v) if not isinstance(v, Vector) else v for v in basis_vectors]\n",
    "            else:\n",
    "                vectors = [Vector(v) if not isinstance(v, Vector) else v for v in basis_vectors]\n",
    "                \n",
    "        matrix = np.column_stack(vectors)\n",
    "        output = {\n",
    "            \"rank\": 0,  # Dimension of the span (rank)\n",
    "            \"full_span\": False,  # Whether the span fills the entire space\n",
    "            \"zero_span\": False,  # Whether the span is trivial (zero vector only)\n",
    "        }\n",
    "        print(matrix)\n",
    "        rank = np.linalg.matrix_rank(matrix)\n",
    "        n_vectors = matrix.shape[1] # Number of vectors is equal to number of columns\n",
    "        output[\"rank\"] = int(rank)\n",
    "        print(rank, n_vectors)\n",
    "        if rank == 0:\n",
    "            output[\"zero_span\"] = True\n",
    "        elif rank == n_vectors:\n",
    "            output[\"full_span\"] = True\n",
    "        \n",
    "        return output\n",
    "   \n",
    "    def is_basis(self, *vectors) -> bool:\n",
    "        return not self.is_dependent(*vectors)\n",
    "             \n",
    "   \n",
    "class Matrix(np.ndarray):\n",
    "    \n",
    "    \"\"\"\n",
    "    A class representing a mathematical matrix that inherits from numpy.ndarray.\n",
    "\n",
    "    This ensures that the Matrix behaves like a numpy array and supports all\n",
    "    operations such as addition, multiplication, etc.\n",
    "\n",
    "    Attributes:\n",
    "        data (numpy.ndarray): The data of the matrix as a 2D numpy array.\n",
    "    \"\"\"\n",
    "\n",
    "    def __new__(cls, data):\n",
    "        # Convert input data into a numpy array and ensure it's 2D\n",
    "        obj = np.asarray(data)\n",
    "        if obj.ndim not in [1, 2]:\n",
    "            raise ValueError(\"A matrix must be either a 1D or 2D array.\")\n",
    "\n",
    "        # Handle 1D array by reshaping it into a 1xN matrix\n",
    "        if obj.ndim == 1:\n",
    "            obj = obj.reshape(1, -1)\n",
    "\n",
    "        # Handle single-column matrix to row vector conversion\n",
    "        if obj.ndim == 2 and obj.shape[1] == 1:\n",
    "            obj = obj.T\n",
    "\n",
    "        return obj.view(cls)\n",
    "\n",
    "    def __repr__(self):\n",
    "        return super().__repr__()\n",
    "\n",
    "    def rank(self):\n",
    "        return np.linalg.matrix_rank(self)"
   ]
  },
  {
   "cell_type": "code",
   "execution_count": 3,
   "metadata": {},
   "outputs": [],
   "source": [
    "_a = [1, 2, 3]\n",
    "_b = [11, 22, 33]\n",
    "_c = [111, 222, 333]\n",
    "_d = [111, 222, 333, 444]\n",
    "_e = [1, 5, 19]\n",
    "a, b, c, d, e = Vector(_a), Vector(_b), Vector(_c), Vector(_d), Vector(_e)"
   ]
  },
  {
   "cell_type": "code",
   "execution_count": null,
   "metadata": {},
   "outputs": [],
   "source": [
    " # Create an instance of Vector A\n",
    "A = Vector([1, 2, 3])\n",
    "\n",
    "# Simple tests for .find_span method\n",
    "span_result_1 = A.find_span([1, 0, 0], [0, 1, 0], [0, 0, 1])\n",
    "span_result_2 = A.find_span([1, 2, 3], [2, 4, 6])\n",
    "span_result_3 = A.find_span([1, 2, 3], [4, 5, 6])\n",
    "span_result_4 = A.find_span( [4, 5, 6], include_self=True)\n",
    "\n",
    "print(\"Span Result 1:\", span_result_1)\n",
    "print(\"Span Result 2:\", span_result_2)\n",
    "print(\"Span Result 3:\", span_result_3)\n",
    "print(\"Span Result 4:\", span_result_4)"
   ]
  },
  {
   "cell_type": "code",
   "execution_count": null,
   "metadata": {},
   "outputs": [],
   "source": [
    "print(a.find_linear_combination(b, c))"
   ]
  },
  {
   "cell_type": "code",
   "execution_count": null,
   "metadata": {},
   "outputs": [],
   "source": [
    "0.0008841  * b + 0.0089214 * c"
   ]
  },
  {
   "cell_type": "code",
   "execution_count": null,
   "metadata": {},
   "outputs": [],
   "source": [
    "a.add_vector(b)"
   ]
  },
  {
   "cell_type": "code",
   "execution_count": null,
   "metadata": {},
   "outputs": [],
   "source": [
    "a.scalar_multiply(21)"
   ]
  },
  {
   "cell_type": "code",
   "execution_count": null,
   "metadata": {},
   "outputs": [],
   "source": [
    "a.is_dependent(d)"
   ]
  },
  {
   "cell_type": "code",
   "execution_count": null,
   "metadata": {},
   "outputs": [],
   "source": [
    "a.is_linear_combination(d)"
   ]
  },
  {
   "cell_type": "code",
   "execution_count": 1,
   "metadata": {},
   "outputs": [],
   "source": [
    "import numpy as np"
   ]
  },
  {
   "cell_type": "code",
   "execution_count": 2,
   "metadata": {},
   "outputs": [],
   "source": [
    "class Matrix(np.ndarray):\n",
    "    \"\"\"\n",
    "    A class representing a mathematical matrix that inherits from numpy.ndarray.\n",
    "\n",
    "    This ensures that the Matrix behaves like a numpy array and supports all\n",
    "    operations such as addition, multiplication, etc.\n",
    "\n",
    "    Attributes:\n",
    "        data (numpy.ndarray): The data of the matrix as a 2D numpy array.\n",
    "    \"\"\"\n",
    "\n",
    "    def __new__(cls, *data, make_from_vectors=False):\n",
    "        # Case when creating from vectors\n",
    "        if make_from_vectors:\n",
    "            # Ensure multiple vectors are passed\n",
    "            if len(data) < 2:\n",
    "                raise ValueError(\"At least two vectors are required to form a matrix.\")\n",
    "            vectors = [Vector(v) if not isinstance(v, Vector) else v for v in data]\n",
    "            obj = np.column_stack(vectors)\n",
    "        else:\n",
    "            # Case when creating from a single matrix\n",
    "            if len(data) != 1:\n",
    "                raise ValueError(\"Only one argument is allowed when creating a matrix. To create a matrix from vectors, use `make_from_vectors=True`.\")\n",
    "            obj = np.asarray(data[0])\n",
    "\n",
    "            if obj.ndim != 2:\n",
    "                raise ValueError(f\"A matrix must be a 2D array, got {obj.ndim}D.\")\n",
    "\n",
    "        return obj.view(cls)\n",
    "\n",
    "    def rank(self):\n",
    "        base_matrix = self\n",
    "        return np.linalg.matrix_rank(base_matrix)\n",
    "\n",
    "    def is_square(self):\n",
    "        base_matrix = self\n",
    "        return base_matrix.shape[0] == base_matrix.shape[1]\n",
    "    \n",
    "    # add shape validation and type checking Vector()\n",
    "    def apply_on_vector(self, vector):\n",
    "        base_matrix = self\n",
    "        return base_matrix @ vector\n",
    "\n",
    "    def inverse_matrix(matrix):\n",
    "        matrix = Matrix(matrix) if not isinstance(matrix, Matrix) else matrix\n",
    "        if matrix.shape[0] != matrix.shape[1]:\n",
    "            raise ValueError(\"Only square matrices can be inverted.\")\n",
    "        return np.linalg.inv(matrix)"
   ]
  },
  {
   "cell_type": "code",
   "execution_count": null,
   "metadata": {},
   "outputs": [],
   "source": [
    "def is_linear_transformation(transformation_matrix) -> bool:\n",
    "    A = transformation_matrix\n",
    "    validate_input(A)\n",
    "    \n",
    "    if not isinstance(A, Matrix):\n",
    "        A = Matrix(A)\n",
    "    n_vectors = A.shape[1]\n",
    "    \n",
    "    np.random.seed(42)  # Sets the seed\n",
    "    # the number of rows of each vector should be equal to the number of cols of matrix (n vectors)\n",
    "    v1 = Vector(np.random.random(size=(n_vectors,)))\n",
    "    v2 = Vector(np.random.random(size=(n_vectors,)))\n",
    "    c = np.random.rand()\n",
    "\n",
    "    additivity = np.allclose(A @ v1 + A @ v2, A @ (v1 + v2))\n",
    "    homogeneity = np.allclose(A @ (c * v1), c * (A @ v1))\n",
    "    return additivity and homogeneity\n",
    "\n",
    "\n",
    "m = [[1, 0], [0, 1]]\n",
    "is_linear_transformation(m)"
   ]
  },
  {
   "cell_type": "code",
   "execution_count": 12,
   "metadata": {},
   "outputs": [],
   "source": [
    "import numpy as np\n",
    "from BaseTools import Vector, Matrix, validate_input, validate_equal_shapes, validate_multiplication_compatibility, validate_types"
   ]
  },
  {
   "cell_type": "code",
   "execution_count": 13,
   "metadata": {},
   "outputs": [
    {
     "name": "stdout",
     "output_type": "stream",
     "text": [
      "Transformed Vector: [-2  1]\n"
     ]
    }
   ],
   "source": [
    "def apply_transformation(transformation_matrix, vector):\n",
    "    \n",
    "    A = transformation_matrix\n",
    "    validate_input(A, vector)\n",
    "    \n",
    "    if not isinstance(A, Matrix):\n",
    "        A = Matrix(A)\n",
    "    if not isinstance(vector, Vector):\n",
    "        vector = Vector(vector)\n",
    "        \n",
    "    validate_multiplication_compatibility(A, vector)\n",
    "    \n",
    "        \n",
    "    return A @ vector\n",
    "\n",
    "v = [1, 2]\n",
    "m = [[0, -1], [1, 0]]\n",
    "result = apply_transformation(m, v)\n",
    "print(f\"Transformed Vector: {result}\")"
   ]
  },
  {
   "cell_type": "code",
   "execution_count": 14,
   "metadata": {},
   "outputs": [
    {
     "name": "stdout",
     "output_type": "stream",
     "text": [
      "[-2  1]\n",
      "[ 2 -1]\n",
      "Rotated Vector: [ 2 -1]\n"
     ]
    }
   ],
   "source": [
    "def compose_transformations(vector, *matrices):\n",
    "    validate_input(vector, *matrices)\n",
    "\n",
    "    # validate types    \n",
    "    if not isinstance(vector, Vector):\n",
    "        vector = Vector(vector)\n",
    "    matrices = [Matrix(m) if not isinstance(m, Matrix) else m for m in matrices]\n",
    "\n",
    "    # validate compatibility between matrices and a vector\n",
    "    for matrix in matrices:\n",
    "        validate_multiplication_compatibility(matrix, vector, raise_exception=True)\n",
    "\n",
    "    result = vector\n",
    "\n",
    "    for matrix in matrices:\n",
    "        result = matrix @ result\n",
    "\n",
    "        print(result)\n",
    "\n",
    "    return result\n",
    "\n",
    "\n",
    "\n",
    "# Test: Rotate vector v first 90 degrees to the left and then 180 degrees to the right\n",
    "\n",
    "v = [1, 2]\n",
    "\n",
    "rotated_vector = compose_transformations(v, [[0, -1], [1, 0]], [[-1, 0], [0, -1]])\n",
    "\n",
    "print(f\"Rotated Vector: {rotated_vector}\")"
   ]
  },
  {
   "cell_type": "code",
   "execution_count": 15,
   "metadata": {},
   "outputs": [
    {
     "name": "stdout",
     "output_type": "stream",
     "text": [
      "Test 1 - Result:\n",
      "[[ 4  4]\n",
      " [10  8]]\n",
      "Test 2 - Result:\n",
      "[[ 58  64]\n",
      " [139 154]]\n"
     ]
    }
   ],
   "source": [
    "def matrix_multiply(matrix1, matrix2):\n",
    "    validate_input(matrix1, matrix2)\n",
    "    matrix1 = Matrix(matrix1) if not isinstance(matrix1, Matrix) else matrix1\n",
    "    matrix2 = Matrix(matrix2) if not isinstance(matrix2, Matrix) else matrix2\n",
    "    validate_multiplication_compatibility(matrix1, matrix2)\n",
    "\n",
    "\n",
    "    return matrix1 @ matrix2\n",
    "\n",
    "# Test 1: Multiply two 2x2 matrices\n",
    "m1 = [[1, 2], [3, 4]]\n",
    "m2 = [[2, 0], [1, 2]]\n",
    "result = matrix_multiply(m1, m2)\n",
    "print(f\"Test 1 - Result:\\n{result}\")\n",
    "\n",
    "# Test 2: Multiply a 2x3 matrix with a 3x2 matrix\n",
    "m3 = [[1, 2, 3], [4, 5, 6]]\n",
    "m4 = [[7, 8], [9, 10], [11, 12]]\n",
    "result = matrix_multiply(m3, m4)\n",
    "print(f\"Test 2 - Result:\\n{result}\")"
   ]
  },
  {
   "cell_type": "code",
   "execution_count": 16,
   "metadata": {},
   "outputs": [
    {
     "name": "stdout",
     "output_type": "stream",
     "text": [
      "Original:\n",
      " [[1 2 3]\n",
      " [4 5 6]]\n",
      "Transposed:\n",
      " [[1. 4.]\n",
      " [2. 5.]\n",
      " [3. 6.]]\n",
      "Original:\n",
      " [[1 2]\n",
      " [3 4]\n",
      " [5 6]]\n",
      "Transposed:\n",
      " [[1. 3. 5.]\n",
      " [2. 4. 6.]]\n",
      "Original:\n",
      " [[1 2 3 4]]\n",
      "Transposed:\n",
      " [[1.]\n",
      " [2.]\n",
      " [3.]\n",
      " [4.]]\n",
      "Original:\n",
      " [[1]\n",
      " [2]\n",
      " [3]\n",
      " [4]]\n",
      "Transposed:\n",
      " [[1. 2. 3. 4.]]\n",
      "Original:\n",
      " [[1 2]\n",
      " [3 4]]\n",
      "Transposed:\n",
      " [[1. 3.]\n",
      " [2. 4.]]\n"
     ]
    }
   ],
   "source": [
    "def transpose(matrix):\n",
    "    validate_input(matrix)\n",
    "    matrix = Matrix(matrix) if not isinstance(matrix, Matrix) else matrix\n",
    "\n",
    "    n_rows, n_cols = matrix.shape[:2]\n",
    "    new_n_rows = n_cols\n",
    "    new_n_cols = n_rows\n",
    "\n",
    "    new_matrix = np.zeros((new_n_rows, new_n_cols))\n",
    "    for idx in range(new_n_rows):\n",
    "        # go through empty new matrix rows, and assign cols of the original matrix to them\n",
    "        new_matrix[idx] = matrix[:, idx]\n",
    "\n",
    "    return Matrix(new_matrix)\n",
    "\n",
    "\n",
    "# Test 1: Transpose a 2x3 matrix\n",
    "m1 = np.array([[1, 2, 3], [4, 5, 6]])\n",
    "print(\"Original:\\n\", m1)\n",
    "print(\"Transposed:\\n\", transpose(m1))\n",
    "\n",
    "# Test 2: Transpose a 3x2 matrix\n",
    "m2 = np.array([[1, 2], [3, 4], [5, 6]])\n",
    "print(\"Original:\\n\", m2)\n",
    "print(\"Transposed:\\n\", transpose(m2))\n",
    "\n",
    "# Test 3: Transpose a 1x4 matrix\n",
    "m3 = np.array([[1, 2, 3, 4]])\n",
    "print(\"Original:\\n\", m3)\n",
    "print(\"Transposed:\\n\", transpose(m3))\n",
    "\n",
    "# Test 4: Transpose a 4x1 matrix\n",
    "m4 = np.array([[1], [2], [3], [4]])\n",
    "print(\"Original:\\n\", m4)\n",
    "print(\"Transposed:\\n\", transpose(m4))\n",
    "\n",
    "# Test 5: Transpose a square matrix 2x2\n",
    "m5 = np.array([[1, 2], [3, 4]])\n",
    "print(\"Original:\\n\", m5)\n",
    "print(\"Transposed:\\n\", transpose(m5))"
   ]
  },
  {
   "cell_type": "code",
   "execution_count": 17,
   "metadata": {},
   "outputs": [],
   "source": [
    "def calculate_inverse_matrix(matrix):\n",
    "    validate_input(matrix)\n",
    "    matrix = Matrix(matrix) if not isinstance(matrix, Matrix) else matrix\n",
    "\n",
    "    if not matrix.is_square():\n",
    "        raise ValueError(\"Only square matrices can be inverted.\")\n",
    "    \n",
    "    try:\n",
    "        inv_matrix = np.linalg.inv(matrix)\n",
    "    except np.linalg.LinAlgError as e:\n",
    "        raise ValueError(\"Matrix is singular and cannot be inverted.\")\n",
    "\n",
    "    return Matrix(inv_matrix)"
   ]
  },
  {
   "cell_type": "code",
   "execution_count": 18,
   "metadata": {},
   "outputs": [
    {
     "name": "stdout",
     "output_type": "stream",
     "text": [
      "Matrix 1:\n",
      " [[1 2]\n",
      " [3 4]]\n",
      "Inverse of Matrix 1:\n",
      " [[-2.   1. ]\n",
      " [ 1.5 -0.5]]\n",
      "Matrix 2:\n",
      " [[2 0]\n",
      " [0 2]]\n",
      "Inverse of Matrix 2:\n",
      " [[0.5 0. ]\n",
      " [0.  0.5]]\n",
      "Matrix 3:\n",
      " [[4 7]\n",
      " [2 6]]\n",
      "Inverse of Matrix 3:\n",
      " [[ 0.6 -0.7]\n",
      " [-0.2  0.4]]\n"
     ]
    }
   ],
   "source": [
    "# Create matrices using the Matrix class\n",
    "matrix1 = Matrix([[1, 2], [3, 4]])\n",
    "matrix2 = Matrix([[2, 0], [0, 2]])\n",
    "matrix3 = Matrix([[4, 7], [2, 6]])\n",
    "\n",
    "# Check the inverse_matrix function\n",
    "inv_matrix1 = calculate_inverse_matrix(matrix1)\n",
    "inv_matrix2 = calculate_inverse_matrix(matrix2)\n",
    "inv_matrix3 = calculate_inverse_matrix(matrix3)\n",
    "\n",
    "print(\"Matrix 1:\\n\", matrix1)\n",
    "print(\"Inverse of Matrix 1:\\n\", inv_matrix1)\n",
    "\n",
    "print(\"Matrix 2:\\n\", matrix2)\n",
    "print(\"Inverse of Matrix 2:\\n\", inv_matrix2)\n",
    "\n",
    "print(\"Matrix 3:\\n\", matrix3)\n",
    "print(\"Inverse of Matrix 3:\\n\", inv_matrix3)"
   ]
  },
  {
   "cell_type": "code",
   "execution_count": 19,
   "metadata": {},
   "outputs": [
    {
     "name": "stdout",
     "output_type": "stream",
     "text": [
      "Exception: Only square matrices can be inverted.\n"
     ]
    }
   ],
   "source": [
    "# Singular matrix (determinant is zero)\n",
    "singular_matrix = Matrix([[1, 2, 4], [2, 4,5]])\n",
    "\n",
    "try:\n",
    "    inv_singular_matrix = calculate_inverse_matrix(singular_matrix)\n",
    "except ValueError as e:\n",
    "    print(f\"Exception: {e}\")"
   ]
  },
  {
   "cell_type": "code",
   "execution_count": 1,
   "metadata": {},
   "outputs": [],
   "source": [
    "from BaseTools import Vector, Matrix, validate_input, validate_equal_shapes, validate_multiplication_compatibility, validate_types\n",
    "import numpy as np"
   ]
  },
  {
   "cell_type": "code",
   "execution_count": 2,
   "metadata": {},
   "outputs": [],
   "source": [
    "def calculate_determinant(matrix):\n",
    "    validate_input(matrix)\n",
    "    # Matrix class ensures ndim == 2\n",
    "    matrix = Matrix(matrix) if not isinstance(matrix, Matrix) else matrix\n",
    "\n",
    "    if not matrix.is_square():\n",
    "        raise ValueError(\"Only square matrices have a determinant.\")\n",
    "\n",
    "    if matrix.shape == (1, 1):\n",
    "        determinant = matrix[0, 0]\n",
    "    elif matrix.shape == (2, 2):\n",
    "        determinant = matrix[0,0] * matrix[1,1] - matrix[0,1] * matrix[1,0]\n",
    "    elif matrix.shape == (3, 3):\n",
    "        a, b, c = matrix[0]\n",
    "        d, e, f = matrix[1]\n",
    "        g, h, i = matrix[2]\n",
    "        determinant = (a * e * i) + (b * f * g) + (c * d * h) - (c * e * g) - (b * d * i) -( a * f * h)\n",
    "    else:\n",
    "        determinant = np.linalg.det(matrix)\n",
    "    return float(determinant)\n",
    "\n",
    "def calculate_trace(matrix):\n",
    "    validate_input(matrix)\n",
    "    matrix = Matrix(matrix) if not isinstance(matrix, Matrix) else matrix\n",
    "\n",
    "    if not matrix.is_square():\n",
    "        raise ValueError(\"Only square matrices have a trace.\")\n",
    "\n",
    "    n_rows = matrix.shape[0]\n",
    "    trace = sum(matrix[i, i] for i in range(n_rows))\n",
    "    return trace.astype(np.float64)\n"
   ]
  },
  {
   "cell_type": "code",
   "execution_count": 3,
   "metadata": {},
   "outputs": [],
   "source": [
    "def find_diagonal(matrix):\n",
    "    validate_input(matrix)\n",
    "    matrix = Matrix(matrix) if not isinstance(matrix, Matrix) else matrix\n",
    "\n",
    "    if not matrix.is_square():\n",
    "        raise ValueError(\"Only square matrices have a diagonal.\")\n",
    "\n",
    "    n_rows = matrix.shape[0]\n",
    "    diagonal = [matrix[i, i] for i in range(n_rows)]\n",
    "    return Vector(diagonal)\n",
    "\n",
    "def find_anti_diagonal(matrix):\n",
    "    validate_input(matrix)\n",
    "    matrix = Matrix(matrix) if not isinstance(matrix, Matrix) else matrix\n",
    "\n",
    "    if not matrix.is_square():\n",
    "        raise ValueError(\"Only square matrices have an anti-diagonal.\")\n",
    "\n",
    "    n_rows = matrix.shape[0]\n",
    "    anti_diagonal = [matrix[i, n_rows-1-i] for i in range(n_rows)]\n",
    "    return Vector(anti_diagonal)"
   ]
  },
  {
   "cell_type": "code",
   "execution_count": 4,
   "metadata": {},
   "outputs": [
    {
     "name": "stdout",
     "output_type": "stream",
     "text": [
      "digonal Vector(1, 4)\n",
      "antidiagonal Vector(2, 3)\n",
      "Matrix 1:\n",
      " [[1 2]\n",
      " [3 4]]\n",
      "Determinant of Matrix 1: -2.0\n",
      "Matrix 2:\n",
      " [[2 0]\n",
      " [0 2]]\n",
      "Determinant of Matrix 2: 4.0\n",
      "Matrix 3:\n",
      " [[4 7 2]\n",
      " [3 6 1]\n",
      " [2 5 1]]\n",
      "Determinant of Matrix 3: 3.0\n"
     ]
    }
   ],
   "source": [
    "\n",
    "    # Create matrices using the Matrix class\n",
    "matrix1 = Matrix([[1, 2], [3, 4]])\n",
    "print(\"digonal\", find_diagonal(matrix1))\n",
    "print(\"antidiagonal\", find_anti_diagonal(matrix1))\n",
    "matrix2 = Matrix([[2, 0], [0, 2]])\n",
    "matrix3 = Matrix([[4, 7, 2], [3, 6, 1], [2, 5, 1]])\n",
    "\n",
    "# Check the determinant function\n",
    "det_matrix1 = calculate_determinant(matrix1)\n",
    "det_matrix2 = calculate_determinant(matrix2)\n",
    "det_matrix3 = calculate_determinant(matrix3)\n",
    "\n",
    "print(\"Matrix 1:\\n\", matrix1)\n",
    "print(\"Determinant of Matrix 1:\", det_matrix1)\n",
    "\n",
    "print(\"Matrix 2:\\n\", matrix2)\n",
    "print(\"Determinant of Matrix 2:\", det_matrix2)\n",
    "\n",
    "print(\"Matrix 3:\\n\", matrix3)\n",
    "print(\"Determinant of Matrix 3:\", det_matrix3)\n"
   ]
  },
  {
   "cell_type": "code",
   "execution_count": 5,
   "metadata": {},
   "outputs": [],
   "source": [
    "def calculate_column_space(matrix):\n",
    "    validate_input(matrix)\n",
    "    matrix = Matrix(matrix) if not isinstance(matrix, Matrix) else matrix\n",
    "\n",
    "    rank = matrix.rank()\n",
    "    column_space = matrix[:, :rank]\n",
    "    return column_space"
   ]
  },
  {
   "cell_type": "code",
   "execution_count": 6,
   "metadata": {},
   "outputs": [],
   "source": [
    "def calculate_row_space(matrix):\n",
    "    validate_input(matrix)\n",
    "    matrix = Matrix(matrix) if not isinstance(matrix, Matrix) else matrix\n",
    "\n",
    "    matrix = matrix.get_transpose()\n",
    "    col_space = calculate_column_space(matrix)\n",
    "    return col_space"
   ]
  },
  {
   "cell_type": "code",
   "execution_count": 7,
   "metadata": {},
   "outputs": [
    {
     "data": {
      "text/plain": [
       "(Matrix([[1, 4],\n",
       "         [2, 5],\n",
       "         [3, 6]]),\n",
       " Matrix([[1, 2],\n",
       "         [4, 5],\n",
       "         [7, 8]]))"
      ]
     },
     "execution_count": 7,
     "metadata": {},
     "output_type": "execute_result"
    }
   ],
   "source": [
    "# example with calculating row space\n",
    "matrix = Matrix([[1, 2, 3], [4, 5, 6], [7, 8, 9]])\n",
    "row_space = calculate_row_space(matrix)\n",
    "col_space = calculate_column_space(matrix)\n",
    "row_space, col_space"
   ]
  },
  {
   "cell_type": "code",
   "execution_count": 8,
   "metadata": {},
   "outputs": [
    {
     "data": {
      "text/plain": [
       "Matrix([[1, 0],\n",
       "        [0, 1],\n",
       "        [1, 1]])"
      ]
     },
     "execution_count": 8,
     "metadata": {},
     "output_type": "execute_result"
    }
   ],
   "source": [
    "# test 1 - matrix from 1 to 9\n",
    "test_m = [[0, 0, 1], [0, 1, 0], [1, 0, 0]]\n",
    "test_m = [[1, 2, 3], [4, 5, 6], [7, 8, 9]]\n",
    "test_matrix = [\n",
    "    [1, 2, 3],\n",
    "    [2, 4, 6],\n",
    "    [3, 6, 9]\n",
    "]\n",
    "test_matrix = [\n",
    "    [1, 0, 1],\n",
    "    [0, 1, 1],\n",
    "    [1, 1, 2]\n",
    "]\n",
    "calculate_column_space(test_m)\n",
    "calculate_column_space(test_matrix)"
   ]
  },
  {
   "cell_type": "code",
   "execution_count": 16,
   "metadata": {},
   "outputs": [
    {
     "data": {
      "text/plain": [
       "32.0"
      ]
     },
     "execution_count": 16,
     "metadata": {},
     "output_type": "execute_result"
    }
   ],
   "source": [
    "def vector_dot(v1, v2):\n",
    "    validate_input(v1, v2)\n",
    "    v1 = Vector(v1) if not isinstance(v1, Vector) else v1\n",
    "    v2 = Vector(v2) if not isinstance(v2, Vector) else v2\n",
    "\n",
    "    # the dot product of two vectors requires the same shape, in contrast to matrix multiplication,\n",
    "    # which requires the number rows of the first matrix to be equal to the number of columns of the second matrix\n",
    "    validate_equal_shapes(v1, v2)\n",
    "    \n",
    "    # the dot product of 2 vectors is element-wise multiplication followed by summation\n",
    "    result = np.sum(v1 * v2)\n",
    "    return float(result)\n",
    "\n",
    "# Test 1: Dot product of two 1D vectors\n",
    "v1 = [1, 2, 3]\n",
    "v2 = [4, 5, 6]\n",
    "result = vector_dot(v1, v2)\n",
    "result\n",
    "# print(result)"
   ]
  },
  {
   "cell_type": "code",
   "execution_count": 13,
   "metadata": {},
   "outputs": [
    {
     "name": "stdout",
     "output_type": "stream",
     "text": [
      "Vector(17.0, 39.0)\n"
     ]
    }
   ],
   "source": [
    "def matrix_vector_dot(matrix, vector):\n",
    "    validate_input(matrix, vector)\n",
    "    matrix = Matrix(matrix) if not isinstance(matrix, Matrix) else matrix\n",
    "    vector = Vector(vector) if not isinstance(vector, Vector) else vector\n",
    "\n",
    "    validate_multiplication_compatibility(matrix, vector)\n",
    "\n",
    "    n_components = len(vector)\n",
    "    result = Vector(\n",
    "        np.zeros(\n",
    "            n_components,\n",
    "        )\n",
    "    )\n",
    "\n",
    "    for i in range(n_components):\n",
    "        # each component of vector multiplied by corresponding columnn of the matrix\n",
    "        result += vector[i] * matrix[:, i]\n",
    "    return result\n",
    "\n",
    "\n",
    "# Test 1: Dot product of a matrix and a vector\n",
    "m1 = [[1, 2], [3, 4]]\n",
    "v1 = [5, 6]\n",
    "result = matrix_vector_dot(m1, v1)\n",
    "print(result)"
   ]
  },
  {
   "cell_type": "code",
   "execution_count": 19,
   "metadata": {},
   "outputs": [
    {
     "name": "stdout",
     "output_type": "stream",
     "text": [
      "[3 4] Vector(11.0, 24.0)\n",
      "[4 8] Vector(20.0, 40.0)\n"
     ]
    },
    {
     "data": {
      "text/plain": [
       "Matrix([[11., 20.],\n",
       "        [24., 40.]])"
      ]
     },
     "execution_count": 19,
     "metadata": {},
     "output_type": "execute_result"
    }
   ],
   "source": [
    "def matrix_dot(matrix1, matrix2):\n",
    "    \"\"\"\n",
    "    Here is the logic of matrix multiplication from scratch:\n",
    "\n",
    "    1. We consider the first matrix as the transformation matrix\n",
    "    2. We consider the second matrix as the set of vectors (each column - 1 vector)\n",
    "    3. If we apply 1st matrix (transformation matrix) to each column (vector) of the second matrix, we get corresponding transformed columns (vectors) for the resulting matrix.\n",
    "    4. So it feels  like applying transformation on each vector and filling the resulting matrix with the transformed vectors.\n",
    "\n",
    "    \"\"\"\n",
    "    validate_input(matrix1, matrix2)\n",
    "    matrix1 = Matrix(matrix1) if not isinstance(matrix1, Matrix) else matrix1\n",
    "    matrix2 = Matrix(matrix2) if not isinstance(matrix2, Matrix) else matrix2\n",
    "\n",
    "    validate_multiplication_compatibility(matrix1, matrix2)\n",
    "\n",
    "    # shape of resulting matrix\n",
    "    n_rows = matrix1.shape[0]\n",
    "    n_cols = matrix2.shape[1]\n",
    "    result = Matrix(np.zeros((n_rows, n_cols)))\n",
    "\n",
    "    # iterate over columns (vectors) of the 2nd matrix:\n",
    "    for idx, vector in enumerate(matrix2):\n",
    "        transformed_vector = matrix_vector_dot(matrix1, vector)\n",
    "        result[:, idx] = transformed_vector\n",
    "        # each column of resulting matrix is the transformed vector of the corresponding column of the 2nd matrix\n",
    "        print(vector, transformed_vector)\n",
    "\n",
    "    return result\n",
    "\n",
    "\n",
    "# Test 1: Multiply two 2x2 matrices\n",
    "m1 = [[1, 2], [4, 3]]\n",
    "m2 = [[3, 4], [4, 8]]\n",
    "result = matrix_dot(m1, m2)\n",
    "result"
   ]
  }
 ],
 "metadata": {
  "kernelspec": {
   "display_name": "Python 3",
   "language": "python",
   "name": "python3"
  },
  "language_info": {
   "codemirror_mode": {
    "name": "ipython",
    "version": 3
   },
   "file_extension": ".py",
   "mimetype": "text/x-python",
   "name": "python",
   "nbconvert_exporter": "python",
   "pygments_lexer": "ipython3",
   "version": "3.13.1"
  }
 },
 "nbformat": 4,
 "nbformat_minor": 2
}
